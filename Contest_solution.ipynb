{
  "nbformat": 4,
  "nbformat_minor": 0,
  "metadata": {
    "colab": {
      "name": "Contest-solution.ipynb",
      "provenance": []
    },
    "kernelspec": {
      "name": "python3",
      "display_name": "Python 3"
    },
    "accelerator": "GPU"
  },
  "cells": [
    {
      "cell_type": "code",
      "metadata": {
        "id": "Td7Af7vNz98y",
        "colab": {
          "base_uri": "https://localhost:8080/"
        },
        "outputId": "6d6aba22-92fc-415c-f24a-1a32fb4fd9ff"
      },
      "source": [
        "#Imports and gpu check\n",
        "import numpy as np\n",
        "import pandas as pd\n",
        "import tensorflow as tf\n",
        "import tensorflow_hub as hub\n",
        "import tensorflow_datasets as tfds\n",
        "from keras.callbacks import EarlyStopping\n",
        "from keras import Sequential\n",
        "from keras.layers import Dense, Dropout, Conv1D, Reshape, MaxPool1D, Flatten\n",
        "from keras.initializers import HeNormal\n",
        "from keras.regularizers import l1_l2\n",
        "!nvidia-smi"
      ],
      "execution_count": null,
      "outputs": [
        {
          "output_type": "stream",
          "text": [
            "Thu Nov 19 19:35:22 2020       \n",
            "+-----------------------------------------------------------------------------+\n",
            "| NVIDIA-SMI 455.38       Driver Version: 418.67       CUDA Version: 10.1     |\n",
            "|-------------------------------+----------------------+----------------------+\n",
            "| GPU  Name        Persistence-M| Bus-Id        Disp.A | Volatile Uncorr. ECC |\n",
            "| Fan  Temp  Perf  Pwr:Usage/Cap|         Memory-Usage | GPU-Util  Compute M. |\n",
            "|                               |                      |               MIG M. |\n",
            "|===============================+======================+======================|\n",
            "|   0  Tesla T4            Off  | 00000000:00:04.0 Off |                    0 |\n",
            "| N/A   62C    P8    11W /  70W |      0MiB / 15079MiB |      0%      Default |\n",
            "|                               |                      |                 ERR! |\n",
            "+-------------------------------+----------------------+----------------------+\n",
            "                                                                               \n",
            "+-----------------------------------------------------------------------------+\n",
            "| Processes:                                                                  |\n",
            "|  GPU   GI   CI        PID   Type   Process name                  GPU Memory |\n",
            "|        ID   ID                                                   Usage      |\n",
            "|=============================================================================|\n",
            "|  No running processes found                                                 |\n",
            "+-----------------------------------------------------------------------------+\n"
          ],
          "name": "stdout"
        }
      ]
    },
    {
      "cell_type": "code",
      "metadata": {
        "colab": {
          "base_uri": "https://localhost:8080/"
        },
        "id": "AAnTiHPZRKmo",
        "outputId": "f8f991c8-421e-4e33-dd90-89eedfe2aa5b"
      },
      "source": [
        "#Downloading the data\n",
        "!wget http://phoenix.mit.bme.hu:49080/kgt/MIGT_2020_traindata_V1.tsv"
      ],
      "execution_count": null,
      "outputs": [
        {
          "output_type": "stream",
          "text": [
            "--2020-11-19 19:35:22--  http://phoenix.mit.bme.hu:49080/kgt/MIGT_2020_traindata_V1.tsv\n",
            "Resolving phoenix.mit.bme.hu (phoenix.mit.bme.hu)... 152.66.253.41\n",
            "Connecting to phoenix.mit.bme.hu (phoenix.mit.bme.hu)|152.66.253.41|:49080... connected.\n",
            "HTTP request sent, awaiting response... 200 OK\n",
            "Length: 2301643 (2.2M) [text/tab-separated-values]\n",
            "Saving to: ‘MIGT_2020_traindata_V1.tsv.7’\n",
            "\n",
            "MIGT_2020_traindata 100%[===================>]   2.19M  1.80MB/s    in 1.2s    \n",
            "\n",
            "2020-11-19 19:35:24 (1.80 MB/s) - ‘MIGT_2020_traindata_V1.tsv.7’ saved [2301643/2301643]\n",
            "\n"
          ],
          "name": "stdout"
        }
      ]
    },
    {
      "cell_type": "code",
      "metadata": {
        "id": "uCH5pnGARuHI"
      },
      "source": [
        "#Reading the input with pandas and numpy\n",
        "table = pd.read_csv(\"MIGT_2020_traindata_V1.tsv\", delimiter='\\t')\n",
        "nparr=table.to_numpy()"
      ],
      "execution_count": null,
      "outputs": []
    },
    {
      "cell_type": "code",
      "metadata": {
        "id": "YDKe_QMhVnEa"
      },
      "source": [
        "#Data preprocessing\n",
        "outChapter=nparr[:, 0:1].reshape(3200).astype(float)\n",
        "outSectionFloat=nparr[:, 1:2].reshape(3200).astype(float)\n",
        "outIsExtra=nparr[:, 2:3].reshape(3200).astype(float)\n",
        "input=nparr[:, 3:4].reshape(3200)"
      ],
      "execution_count": null,
      "outputs": []
    },
    {
      "cell_type": "code",
      "metadata": {
        "id": "Co49Msz2W1hY"
      },
      "source": [
        "#Pretrained model import from tensorflow hub.\n",
        "#This model's job was to process the textual paragraphs of the input.\n",
        "#After this layer, I used 3 different models to predict the 3 different outputs.\n",
        "\n",
        "importedmodel= \"https://tfhub.dev/google/tf2-preview/nnlm-en-dim128/1\"\n",
        "\n",
        "hub_layer = hub.KerasLayer(importedmodel, output_shape=[128], input_shape=[], dtype=tf.string, trainable=True)"
      ],
      "execution_count": null,
      "outputs": []
    },
    {
      "cell_type": "code",
      "metadata": {
        "colab": {
          "base_uri": "https://localhost:8080/"
        },
        "id": "mk3g-YdIZvB1",
        "outputId": "858c1706-eb41-4578-f6ea-c77bf72fa7b3"
      },
      "source": [
        "#Binary classifier for isExtra\n",
        "model = Sequential()\n",
        "model.add(hub_layer)\n",
        "model.add(Dense(16, activation='relu', kernel_initializer=HeNormal()))\n",
        "model.add(Dense(1, activation='sigmoid'))\n",
        "\n",
        "model.compile(optimizer='adam', loss='binary_crossentropy', metrics=['accuracy'])\n",
        "model.fit(input, outIsExtra, epochs=100, validation_split=0.2, batch_size=16, callbacks=[EarlyStopping(patience=5, restore_best_weights=True)])"
      ],
      "execution_count": null,
      "outputs": [
        {
          "output_type": "stream",
          "text": [
            "Epoch 1/100\n",
            "160/160 [==============================] - 12s 78ms/step - loss: 0.5580 - accuracy: 0.7090 - val_loss: 0.4320 - val_accuracy: 0.8250\n",
            "Epoch 2/100\n",
            "160/160 [==============================] - 12s 76ms/step - loss: 0.2642 - accuracy: 0.9105 - val_loss: 0.3736 - val_accuracy: 0.8344\n",
            "Epoch 3/100\n",
            "160/160 [==============================] - 12s 74ms/step - loss: 0.1137 - accuracy: 0.9680 - val_loss: 0.4281 - val_accuracy: 0.8234\n",
            "Epoch 4/100\n",
            "160/160 [==============================] - 12s 74ms/step - loss: 0.0484 - accuracy: 0.9914 - val_loss: 0.4880 - val_accuracy: 0.8313\n",
            "Epoch 5/100\n",
            "160/160 [==============================] - 12s 74ms/step - loss: 0.0297 - accuracy: 0.9937 - val_loss: 0.5290 - val_accuracy: 0.8250\n",
            "Epoch 6/100\n",
            "160/160 [==============================] - 12s 74ms/step - loss: 0.0241 - accuracy: 0.9945 - val_loss: 0.5750 - val_accuracy: 0.8234\n",
            "Epoch 7/100\n",
            "160/160 [==============================] - 12s 75ms/step - loss: 0.0213 - accuracy: 0.9945 - val_loss: 0.5864 - val_accuracy: 0.8297\n"
          ],
          "name": "stdout"
        },
        {
          "output_type": "execute_result",
          "data": {
            "text/plain": [
              "<tensorflow.python.keras.callbacks.History at 0x7f3d10261e80>"
            ]
          },
          "metadata": {
            "tags": []
          },
          "execution_count": 6
        }
      ]
    },
    {
      "cell_type": "code",
      "metadata": {
        "colab": {
          "base_uri": "https://localhost:8080/"
        },
        "id": "3KqJr4IUaYAf",
        "outputId": "5f4c99ea-6cb7-4f23-f9bc-0a61646bb20e"
      },
      "source": [
        "#Regression for the outChapter prediction\n",
        "model2 = Sequential()\n",
        "model2.add(hub_layer)\n",
        "model2.add(Dense(64, activation='relu', kernel_initializer=HeNormal()))\n",
        "model2.add(Dropout(0.3))\n",
        "model2.add(Dense(32, activation='relu', kernel_initializer=HeNormal()))\n",
        "model2.add(Dropout(0.3))\n",
        "model2.add(Dense(16, activation='relu', kernel_initializer=HeNormal()))\n",
        "model2.add(Dense(1))\n",
        "\n",
        "model2.compile(optimizer='adam', loss='MAE', metrics=['MSE'])\n",
        "model2.fit(input, outChapter, epochs=100, validation_split=0.2, batch_size=16, callbacks=[EarlyStopping(patience=5, restore_best_weights=True)])"
      ],
      "execution_count": null,
      "outputs": [
        {
          "output_type": "stream",
          "text": [
            "Epoch 1/100\n",
            "160/160 [==============================] - 12s 76ms/step - loss: 7.7642 - MSE: 95.6934 - val_loss: 6.4554 - val_MSE: 65.8331\n",
            "Epoch 2/100\n",
            "160/160 [==============================] - 12s 75ms/step - loss: 6.0233 - MSE: 60.1859 - val_loss: 5.6485 - val_MSE: 52.6971\n",
            "Epoch 3/100\n",
            "160/160 [==============================] - 12s 75ms/step - loss: 4.6804 - MSE: 39.0334 - val_loss: 5.2802 - val_MSE: 49.9920\n",
            "Epoch 4/100\n",
            "160/160 [==============================] - 12s 75ms/step - loss: 4.0322 - MSE: 30.0194 - val_loss: 5.2664 - val_MSE: 50.7780\n",
            "Epoch 5/100\n",
            "160/160 [==============================] - 12s 73ms/step - loss: 3.5300 - MSE: 23.8127 - val_loss: 5.3686 - val_MSE: 52.4415\n",
            "Epoch 6/100\n",
            "160/160 [==============================] - 12s 73ms/step - loss: 3.2067 - MSE: 19.4465 - val_loss: 5.4508 - val_MSE: 55.0905\n",
            "Epoch 7/100\n",
            "160/160 [==============================] - 12s 74ms/step - loss: 3.0576 - MSE: 18.6019 - val_loss: 5.5315 - val_MSE: 56.1143\n",
            "Epoch 8/100\n",
            "160/160 [==============================] - 12s 74ms/step - loss: 2.8701 - MSE: 16.1064 - val_loss: 5.4694 - val_MSE: 55.1817\n",
            "Epoch 9/100\n",
            "160/160 [==============================] - 12s 74ms/step - loss: 2.6698 - MSE: 14.4857 - val_loss: 5.4167 - val_MSE: 54.1857\n"
          ],
          "name": "stdout"
        },
        {
          "output_type": "execute_result",
          "data": {
            "text/plain": [
              "<tensorflow.python.keras.callbacks.History at 0x7f3cbe1e7748>"
            ]
          },
          "metadata": {
            "tags": []
          },
          "execution_count": 7
        }
      ]
    },
    {
      "cell_type": "code",
      "metadata": {
        "colab": {
          "base_uri": "https://localhost:8080/"
        },
        "id": "yIAn8UqSbOio",
        "outputId": "77f1ad3e-4d0b-4846-fdd6-eb4e41255cbf"
      },
      "source": [
        "#Regression for sectionFloat prediction\n",
        "model3 = Sequential()\n",
        "model3.add(hub_layer)\n",
        "model3.add(Dense(64, activation='relu'))\n",
        "model3.add(Dropout(0.3))\n",
        "model3.add(Dense(32, activation='relu'))\n",
        "model3.add(Dropout(0.3))\n",
        "model3.add(Dense(16, activation='relu'))\n",
        "model3.add(Dense(1))\n",
        "\n",
        "model3.compile(optimizer='adam', loss='MAE', metrics=['MSE'])\n",
        "model3.fit(input, outSectionFloat, epochs=100, validation_split=0.2, batch_size=64, callbacks=[EarlyStopping(patience=5, restore_best_weights=True)])"
      ],
      "execution_count": null,
      "outputs": [
        {
          "output_type": "stream",
          "text": [
            "Epoch 1/100\n",
            "40/40 [==============================] - 3s 82ms/step - loss: 0.3599 - MSE: 0.2018 - val_loss: 0.2999 - val_MSE: 0.1320\n",
            "Epoch 2/100\n",
            "40/40 [==============================] - 3s 82ms/step - loss: 0.2846 - MSE: 0.1230 - val_loss: 0.2818 - val_MSE: 0.1194\n",
            "Epoch 3/100\n",
            "40/40 [==============================] - 3s 80ms/step - loss: 0.2617 - MSE: 0.1065 - val_loss: 0.2780 - val_MSE: 0.1171\n",
            "Epoch 4/100\n",
            "40/40 [==============================] - 3s 79ms/step - loss: 0.2359 - MSE: 0.0871 - val_loss: 0.2646 - val_MSE: 0.1084\n",
            "Epoch 5/100\n",
            "40/40 [==============================] - 3s 79ms/step - loss: 0.2051 - MSE: 0.0685 - val_loss: 0.2456 - val_MSE: 0.0930\n",
            "Epoch 6/100\n",
            "40/40 [==============================] - 3s 80ms/step - loss: 0.1868 - MSE: 0.0579 - val_loss: 0.2395 - val_MSE: 0.0896\n",
            "Epoch 7/100\n",
            "40/40 [==============================] - 3s 74ms/step - loss: 0.1614 - MSE: 0.0454 - val_loss: 0.2412 - val_MSE: 0.0915\n",
            "Epoch 8/100\n",
            "40/40 [==============================] - 3s 73ms/step - loss: 0.1498 - MSE: 0.0405 - val_loss: 0.2422 - val_MSE: 0.0916\n",
            "Epoch 9/100\n",
            "40/40 [==============================] - 3s 73ms/step - loss: 0.1399 - MSE: 0.0353 - val_loss: 0.2475 - val_MSE: 0.0985\n",
            "Epoch 10/100\n",
            "40/40 [==============================] - 3s 73ms/step - loss: 0.1301 - MSE: 0.0318 - val_loss: 0.2414 - val_MSE: 0.0914\n",
            "Epoch 11/100\n",
            "40/40 [==============================] - 3s 79ms/step - loss: 0.1228 - MSE: 0.0281 - val_loss: 0.2367 - val_MSE: 0.0889\n",
            "Epoch 12/100\n",
            "40/40 [==============================] - 3s 74ms/step - loss: 0.1156 - MSE: 0.0249 - val_loss: 0.2373 - val_MSE: 0.0879\n",
            "Epoch 13/100\n",
            "40/40 [==============================] - 3s 79ms/step - loss: 0.1068 - MSE: 0.0216 - val_loss: 0.2341 - val_MSE: 0.0869\n",
            "Epoch 14/100\n",
            "40/40 [==============================] - 3s 74ms/step - loss: 0.1045 - MSE: 0.0212 - val_loss: 0.2425 - val_MSE: 0.0940\n",
            "Epoch 15/100\n",
            "40/40 [==============================] - 3s 73ms/step - loss: 0.0999 - MSE: 0.0192 - val_loss: 0.2402 - val_MSE: 0.0905\n",
            "Epoch 16/100\n",
            "40/40 [==============================] - 3s 74ms/step - loss: 0.0985 - MSE: 0.0191 - val_loss: 0.2375 - val_MSE: 0.0887\n",
            "Epoch 17/100\n",
            "40/40 [==============================] - 3s 74ms/step - loss: 0.0925 - MSE: 0.0164 - val_loss: 0.2440 - val_MSE: 0.0963\n",
            "Epoch 18/100\n",
            "40/40 [==============================] - 3s 76ms/step - loss: 0.0892 - MSE: 0.0152 - val_loss: 0.2405 - val_MSE: 0.0929\n"
          ],
          "name": "stdout"
        },
        {
          "output_type": "execute_result",
          "data": {
            "text/plain": [
              "<tensorflow.python.keras.callbacks.History at 0x7f3cbe0a1ef0>"
            ]
          },
          "metadata": {
            "tags": []
          },
          "execution_count": 8
        }
      ]
    },
    {
      "cell_type": "code",
      "metadata": {
        "colab": {
          "base_uri": "https://localhost:8080/"
        },
        "id": "SFuXBj-F4uKf",
        "outputId": "3bc76135-ff77-4ba7-fe62-6719e7a9a525"
      },
      "source": [
        "#Download test data\n",
        "!wget http://phoenix.mit.bme.hu:49080/kgt/MIGT_2020_validation_V1.tsv"
      ],
      "execution_count": null,
      "outputs": [
        {
          "output_type": "stream",
          "text": [
            "--2020-11-19 19:39:42--  http://phoenix.mit.bme.hu:49080/kgt/MIGT_2020_validation_V1.tsv\n",
            "Resolving phoenix.mit.bme.hu (phoenix.mit.bme.hu)... 152.66.253.41\n",
            "Connecting to phoenix.mit.bme.hu (phoenix.mit.bme.hu)|152.66.253.41|:49080... connected.\n",
            "HTTP request sent, awaiting response... 200 OK\n",
            "Length: 706809 (690K) [text/tab-separated-values]\n",
            "Saving to: ‘MIGT_2020_validation_V1.tsv.3’\n",
            "\n",
            "MIGT_2020_validatio 100%[===================>] 690.24K   751KB/s    in 0.9s    \n",
            "\n",
            "2020-11-19 19:39:44 (751 KB/s) - ‘MIGT_2020_validation_V1.tsv.3’ saved [706809/706809]\n",
            "\n"
          ],
          "name": "stdout"
        }
      ]
    },
    {
      "cell_type": "code",
      "metadata": {
        "id": "nRkBrmb04_L6"
      },
      "source": [
        "#Read test data\n",
        "val = pd.read_csv(\"MIGT_2020_validation_V1.tsv\", delimiter='\\t')\n",
        "npval=val.to_numpy()\n",
        "npval=npval.reshape(1000)"
      ],
      "execution_count": null,
      "outputs": []
    },
    {
      "cell_type": "code",
      "metadata": {
        "id": "ZSzZUS4X5S5K"
      },
      "source": [
        "#Making the predictions, and some postprocessing\n",
        "predsChapter = np.round(model2.predict(npval))\n",
        "predsChapter[predsChapter > 27.0] = 27.0 \n",
        "predsPosition = model3.predict(npval)\n",
        "predsPosition[predsPosition > 1.0] = 1.0 \n",
        "predsAIMA = np.round(model.predict(npval))"
      ],
      "execution_count": null,
      "outputs": []
    },
    {
      "cell_type": "code",
      "metadata": {
        "id": "BvOHH0VG50x8"
      },
      "source": [
        "#Megoldás összerakása és lementése\n",
        "npres=np.concatenate((predsChapter, predsPosition, predsAIMA, npval.reshape(1000, 1)), axis=1)\n",
        "np.savetxt(\"RESULTS.tsv\", npres, delimiter=\"\\t\", fmt=\"%s\")"
      ],
      "execution_count": null,
      "outputs": []
    }
  ]
}